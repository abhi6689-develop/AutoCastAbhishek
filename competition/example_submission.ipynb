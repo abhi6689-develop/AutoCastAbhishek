{
 "cells": [
  {
   "cell_type": "code",
   "execution_count": null,
   "metadata": {},
   "outputs": [],
   "source": [
    "import os\n",
    "import json\n",
    "import pickle\n",
    "import numpy as np\n",
    "from sklearn.model_selection import train_test_split\n",
    "from sklearn.preprocessing import LabelEncoder\n",
    "from transformers import GPT2Tokenizer, GPT2LMHeadModel, GPT2Config, TFGPT2LMHeadModel\n",
    "from tensorflow.keras.optimizers import Adam\n",
    "import tensorflow as tf\n",
    "\n",
    "autocast_questions = json.load(open('autocast_questions.json')) # from the Autocast dataset\n",
    "print(len(autocast_questions))\n",
    "test_questions = json.load(open('autocast_competition_test_set.json'))\n",
    "test_ids = [q['id'] for q in test_questions]\n"
   ]
  },
  {
   "cell_type": "code",
   "execution_count": null,
   "metadata": {},
   "outputs": [],
   "source": [
    "# Filter the questions and labels\n",
    "filtered_questions = [q for q in autocast_questions if q['id'] not in test_ids and q['answer'] is not None]\n",
    "print(len(filtered_questions))\n",
    "#print the number of questions that have the choice key \n",
    "print(len([q for q in filtered_questions if 'choices' in q]))\n",
    "# questions = [item['question'] for item in filtered_questions]\n",
    "\n",
    "\n",
    "# tokenizer = GPT2Tokenizer.from_pretrained('gpt2')\n",
    "# encoded_questions = tokenizer(questions, padding=True, truncation=True, max_length=128, return_tensors='tf')\n",
    "\n",
    "# label_encoder = LabelEncoder()\n",
    "# encoded_labels = label_encoder.fit_transform(labels)\n",
    "\n",
    "# # Split the data into training and testing sets\n",
    "# input_ids_train, input_ids_test, attention_mask_train, attention_mask_test, y_train, y_test = train_test_split(\n",
    "#     encoded_questions['input_ids'], encoded_questions['attention_mask'], encoded_labels, test_size=0.2, random_state=42\n",
    "# )\n"
   ]
  },
  {
   "cell_type": "code",
   "execution_count": null,
   "metadata": {},
   "outputs": [],
   "source": [
    "# autocast_questions = json.load(open('autocast_questions.json')) # from the Autocast dataset\n",
    "# test_questions = json.load(open('autocast_competition_test_set.json'))\n",
    "test_ids = [q['id'] for q in test_questions]"
   ]
  },
  {
   "cell_type": "markdown",
   "metadata": {},
   "source": [
    "## Create baseline models outputting random answers"
   ]
  },
  {
   "cell_type": "code",
   "execution_count": null,
   "metadata": {},
   "outputs": [],
   "source": [
    "def random_baseline_model(question):\n",
    "    if question['qtype'] == 't/f':\n",
    "        return np.random.random(size=2)\n",
    "    elif question['qtype'] == 'mc':\n",
    "        probs = np.random.random(size=len(question['choices']))\n",
    "        return probs / probs.sum()\n",
    "    elif question['qtype'] == 'num':\n",
    "        return np.random.random()\n",
    "\n",
    "\n",
    "def calibrated_random_baseline_model(question):\n",
    "    if question['qtype'] == 't/f':\n",
    "        pred_idx = np.argmax(np.random.random(size=2))\n",
    "        pred = np.ones(2)\n",
    "        pred[pred_idx] += 1e-5\n",
    "        return pred / pred.sum()\n",
    "    elif question['qtype'] == 'mc':\n",
    "        pred_idx = np.argmax(np.random.random(size=len(question['choices'])))\n",
    "        pred = np.ones(len(question['choices']))\n",
    "        pred[pred_idx] += 1e-5\n",
    "        return pred / pred.sum()\n",
    "    elif question['qtype'] == 'num':\n",
    "        return 0.5"
   ]
  },
  {
   "cell_type": "markdown",
   "metadata": {},
   "source": [
    "## Get performance on the Autocast train set\n",
    "\n",
    "Note that the Autocast dataset contains questions in the competition test set. Those should not be used."
   ]
  },
  {
   "cell_type": "code",
   "execution_count": null,
   "metadata": {},
   "outputs": [],
   "source": [
    "def brier_score(probabilities, answer_probabilities):\n",
    "    return ((probabilities - answer_probabilities) ** 2).sum() / 2"
   ]
  },
  {
   "cell_type": "code",
   "execution_count": null,
   "metadata": {},
   "outputs": [],
   "source": [
    "preds = []\n",
    "answers = []\n",
    "qtypes = []\n",
    "# for question in autocast_questions:\n",
    "#     if question['id'] in test_ids: # skipping questions in the competition test set\n",
    "#         continue\n",
    "#     if question['answer'] is None: # skipping questions without answer\n",
    "#         continue\n",
    "#     preds.append(calibrated_random_baseline_model(question))\n",
    "#     if question['qtype'] == 't/f':\n",
    "#         ans_idx = 0 if question['answer'] == 'no' else 1\n",
    "#         ans = np.zeros(len(question['choices']))\n",
    "#         ans[ans_idx] = 1\n",
    "#         qtypes.append('t/f')\n",
    "#     elif question['qtype'] == 'mc':\n",
    "#         ans_idx = ord(question['answer']) - ord('A')\n",
    "#         ans = np.zeros(len(question['choices']))\n",
    "#         ans[ans_idx] = 1\n",
    "#         qtypes.append('mc')\n",
    "#     elif question['qtype'] == 'num':\n",
    "#         ans = float(question['answer'])\n",
    "#         qtypes.append('num')\n",
    "#     answers.append(ans)"
   ]
  },
  {
   "cell_type": "markdown",
   "metadata": {},
   "source": [
    "## Evaluate the model"
   ]
  },
  {
   "cell_type": "code",
   "execution_count": null,
   "metadata": {},
   "outputs": [],
   "source": [
    "tf_results, mc_results, num_results = [],[],[]\n",
    "for p, a, qtype in zip(preds, answers, qtypes):\n",
    "    if qtype == 't/f':\n",
    "        tf_results.append(brier_score(p, a))\n",
    "    elif qtype == 'mc':\n",
    "        mc_results.append(brier_score(p, a))\n",
    "    else:\n",
    "        num_results.append(np.abs(p - a))\n",
    "\n",
    "print(f\"T/F: {np.mean(tf_results)*100:.2f}, MCQ: {np.mean(mc_results)*100:.2f}, NUM: {np.mean(num_results)*100:.2f}\")\n",
    "print(f\"Combined Metric: {(np.mean(tf_results) + np.mean(mc_results) + np.mean(num_results))*100:.2f}\")"
   ]
  },
  {
   "cell_type": "markdown",
   "metadata": {},
   "source": [
    "## Make predictions on test set"
   ]
  },
  {
   "cell_type": "code",
   "execution_count": null,
   "metadata": {},
   "outputs": [],
   "source": [
    "preds = []\n",
    "for question in test_questions:\n",
    "    preds.append(calibrated_random_baseline_model(question))"
   ]
  },
  {
   "cell_type": "code",
   "execution_count": null,
   "metadata": {},
   "outputs": [],
   "source": [
    "if not os.path.exists('submission'):\n",
    "    os.makedirs('submission')\n",
    "\n",
    "with open(os.path.join('submission', 'predictions.pkl'), 'wb') as f:\n",
    "    pickle.dump(preds, f, protocol=2)\n",
    "\n",
    "!cd submission && zip ../submission.zip ./* && cd .."
   ]
  },
  {
   "cell_type": "code",
   "execution_count": null,
   "metadata": {},
   "outputs": [],
   "source": [
    "!ls"
   ]
  },
  {
   "cell_type": "code",
   "execution_count": null,
   "metadata": {},
   "outputs": [],
   "source": [
    "import os\n",
    "import json\n",
    "import pickle\n",
    "import numpy as np\n",
    "from transformers import TFBertForSequenceClassification, BertTokenizerFast, TextClassificationPipeline\n",
    "import tensorflow as tf\n",
    "\n",
    "tokenizer = BertTokenizerFast.from_pretrained('bert-base-uncased',\n",
    "                                              max_length=256,  # max length of the text that can go to BERT\n",
    "                                              pad_to_max_length=True)  # pads shorter sequences of text up to the max length\n",
    "\n",
    "mc_model = TFBertForSequenceClassification.from_pretrained(\"saved_model/mc_model\", num_labels=6)\n",
    "tf_model = TFBertForSequenceClassification.from_pretrained(\"saved_model/tf_model\", num_labels=2)\n",
    "\n",
    "\n",
    "def format_output(output, size):\n",
    "\n",
    "    preds = output\n",
    "\n",
    "    if size > len(output):\n",
    "        num = output[len(output)-1]/(size-len(output)+1)\n",
    "        preds[len(output)-1] = num\n",
    "        for i in range(size-len(output)):\n",
    "            preds.append(num)\n",
    "\n",
    "    elif size < len(output):\n",
    "        preds = output[0:size]\n",
    "    sum = 0\n",
    "    minv = 100\n",
    "\n",
    "    for i in range(len(preds)):\n",
    "        if preds[i] < minv:\n",
    "            minv = preds[i]\n",
    "\n",
    "    for i in range(len(preds)):\n",
    "        preds[i] = preds[i]-minv+10\n",
    "        preds[i]= round(preds[i], 6)\n",
    "    preds=np.array(preds)\n",
    "\n",
    "    return preds/preds.sum()\n",
    "\n",
    "\n",
    "autocast_questions = json.load(open('data/autocast/autocast_questions.json')) # from the Autocast dataset\n",
    "test_questions = json.load(open('data/autocast/autocast_competition_test_set.json'))\n",
    "test_ids = [q['id'] for q in test_questions]\n",
    "\n",
    "\n",
    "def get_answer(question):\n",
    "    if question['qtype'] == 't/f':\n",
    "        encoded_input = tokenizer(question[\"question\"], return_tensors='tf')\n",
    "        output = np.array(tf_model(encoded_input)[\"logits\"]).tolist()[0]\n",
    "        return format_output(output, 2)\n",
    "\n",
    "    elif question['qtype'] == 'mc':\n",
    "        encoded_input = tokenizer(question[\"question\"], return_tensors='tf')\n",
    "        output = np.array(mc_model(encoded_input)[\"logits\"]).tolist()[0]\n",
    "        return format_output(output, len(question[\"choices\"]))\n",
    "\n",
    "    elif question['qtype'] == 'num':\n",
    "        return 0.5\n",
    "\n",
    "\n",
    "preds = []\n",
    "\n",
    "for question in test_questions:\n",
    "    pred = get_answer(question)\n",
    "    print(pred)\n",
    "    preds.append(pred)\n",
    "\n",
    "\n",
    "if not os.path.exists('submission'):\n",
    "    os.makedirs('submission')\n",
    "\n",
    "with open(os.path.join('submission', 'predictions.pkl'), 'wb') as f:\n",
    "    pickle.dump(preds, f, protocol=2)"
   ]
  },
  {
   "cell_type": "code",
   "execution_count": null,
   "metadata": {},
   "outputs": [],
   "source": [
    "!cd submission && zip ../submission.zip ./* && cd .."
   ]
  }
 ],
 "metadata": {
  "kernelspec": {
   "display_name": "college_env",
   "language": "python",
   "name": "python3"
  },
  "language_info": {
   "codemirror_mode": {
    "name": "ipython",
    "version": 3
   },
   "file_extension": ".py",
   "mimetype": "text/x-python",
   "name": "python",
   "nbconvert_exporter": "python",
   "pygments_lexer": "ipython3",
   "version": "3.9.6"
  },
  "orig_nbformat": 4,
  "vscode": {
   "interpreter": {
    "hash": "e501effa2f3a357a06c808626cc77bff5c931fffd49953296cf6abf848805246"
   }
  }
 },
 "nbformat": 4,
 "nbformat_minor": 2
}
